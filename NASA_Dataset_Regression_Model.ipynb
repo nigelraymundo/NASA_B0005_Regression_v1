{
  "nbformat": 4,
  "nbformat_minor": 0,
  "metadata": {
    "colab": {
      "name": "NASA_Dataset_Regression_Model.ipynb",
      "provenance": [],
      "collapsed_sections": []
    },
    "kernelspec": {
      "name": "python3",
      "display_name": "Python 3"
    },
    "language_info": {
      "name": "python"
    },
    "accelerator": "GPU",
    "gpuClass": "standard"
  },
  "cells": [
    {
      "cell_type": "markdown",
      "source": [
        "### Libraries and dependencies"
      ],
      "metadata": {
        "id": "Gsae4ilb66yU"
      }
    },
    {
      "cell_type": "code",
      "execution_count": null,
      "metadata": {
        "id": "-Rl-b80a-bPL"
      },
      "outputs": [],
      "source": [
        "# Import libraries\n",
        "import tensorflow as tf\n",
        "import pandas as pd\n",
        "import matplotlib.pyplot as plt"
      ]
    },
    {
      "cell_type": "markdown",
      "source": [
        "### Import and convert dataset"
      ],
      "metadata": {
        "id": "JeHn8KcQ8f1R"
      }
    },
    {
      "cell_type": "code",
      "source": [
        "# Import dataset\n",
        "NASA_dataset = pd.read_csv(\"/content/drive/MyDrive/IR-SEED/B0005.csv\")\n",
        "\n",
        "# Shuffle dataset\n",
        "NASA_dataset = NASA_dataset.sample(frac=1, random_state=64)\n",
        "\n",
        "# Drop unecessary columns\n",
        "NASA_dataset = NASA_dataset.drop([\"Current_charge\", \"Voltage_charge\", \"type\", \"ambient_temperature\", \"time\", \"Battery\"], axis=1)\n",
        "\n",
        "# Split to training and test sets\n",
        "training_set = NASA_dataset[:int(len(NASA_dataset) * 0.8)]\n",
        "testing_set = NASA_dataset[int(len(NASA_dataset) * 0.8):]\n",
        "\n",
        "# Extract features\n",
        "train_in = training_set.drop(\"Capacity\", axis=1)\n",
        "test_in = testing_set.drop(\"Capacity\", axis=1)\n",
        "\n",
        "# Extract labels\n",
        "train_out = training_set[\"Capacity\"]\n",
        "test_out = testing_set[\"Capacity\"]\n",
        "\n",
        "# Convert features to tensor\n",
        "train_in = tf.constant(train_in)\n",
        "train_out = tf.constant(train_out)\n",
        "\n",
        "# Convert labels to tensor\n",
        "test_in = tf.constant(test_in)\n",
        "test_out = tf.constant(test_out)"
      ],
      "metadata": {
        "id": "LWt698Sv_Alr"
      },
      "execution_count": null,
      "outputs": []
    },
    {
      "cell_type": "code",
      "source": [
        "# Build model\n",
        "soh_estimator = tf.keras.Sequential() # Instantiate model\n",
        "\n",
        "# Add layers\n",
        "soh_estimator.add(tf.keras.layers.Dense(units=100, input_shape=(5,))) # Hidden layer\n",
        "soh_estimator.add(tf.keras.layers.Dense(1)) # Output\n",
        "\n",
        "# Compile model\n",
        "soh_estimator.compile(loss=\"mae\",\n",
        "                      optimizer=\"adam\",\n",
        "                      metrics=\"mae\")"
      ],
      "metadata": {
        "id": "Iho0c11iIpn4"
      },
      "execution_count": null,
      "outputs": []
    },
    {
      "cell_type": "code",
      "source": [
        "# Fit the model\n",
        "loss_hist = soh_estimator.fit(input_train, output_train, epochs=10)"
      ],
      "metadata": {
        "id": "zihUTl3-KZR2"
      },
      "execution_count": null,
      "outputs": []
    },
    {
      "cell_type": "code",
      "source": [
        "input_test[0].numpy()"
      ],
      "metadata": {
        "id": "7E4K6UeMLQeB"
      },
      "execution_count": null,
      "outputs": []
    },
    {
      "cell_type": "code",
      "source": [
        "tf.keras.utils.plot_model(model=soh_estimator, show_shapes=True)"
      ],
      "metadata": {
        "id": "oK7-vlEHLM4C"
      },
      "execution_count": null,
      "outputs": []
    },
    {
      "cell_type": "code",
      "source": [
        "pd.DataFrame(loss_hist.history).plot(figsize=(10,7))\n",
        "plt.ylabel(\"Loss\")\n",
        "plt.xlabel(\"Epochs\")"
      ],
      "metadata": {
        "id": "ce1lllxRN3Ji"
      },
      "execution_count": null,
      "outputs": []
    },
    {
      "cell_type": "code",
      "source": [
        "soh_estimator.predict(input_test)"
      ],
      "metadata": {
        "id": "0F0fz-l_PKsg"
      },
      "execution_count": null,
      "outputs": []
    },
    {
      "cell_type": "code",
      "source": [
        "output_test"
      ],
      "metadata": {
        "id": "9EM3hVl5Pc56"
      },
      "execution_count": null,
      "outputs": []
    },
    {
      "cell_type": "code",
      "source": [
        "soh_estimator.evaluate(input_test, output_test)"
      ],
      "metadata": {
        "id": "xhh6sKohPhKH"
      },
      "execution_count": null,
      "outputs": []
    }
  ]
}