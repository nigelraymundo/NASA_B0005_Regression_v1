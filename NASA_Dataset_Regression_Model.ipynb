{
  "nbformat": 4,
  "nbformat_minor": 0,
  "metadata": {
    "colab": {
      "name": "NASA_Dataset_Regression_Model.ipynb",
      "provenance": [],
      "collapsed_sections": [],
      "mount_file_id": "1XheuQ02j5yhiRpFt4yZpDHAg8tgEbrm8",
      "authorship_tag": "ABX9TyPsy7hX3OhD079Jr6jSeiGn"
    },
    "kernelspec": {
      "name": "python3",
      "display_name": "Python 3"
    },
    "language_info": {
      "name": "python"
    },
    "accelerator": "GPU",
    "gpuClass": "standard"
  },
  "cells": [
    {
      "cell_type": "markdown",
      "source": [
        "### Libraries and dependencies"
      ],
      "metadata": {
        "id": "Gsae4ilb66yU"
      }
    },
    {
      "cell_type": "code",
      "execution_count": 1,
      "metadata": {
        "id": "-Rl-b80a-bPL"
      },
      "outputs": [],
      "source": [
        "# Import libraries\n",
        "import tensorflow as tf\n",
        "import pandas as pd\n",
        "import matplotlib.pyplot as plt"
      ]
    },
    {
      "cell_type": "markdown",
      "source": [
        "### Import and convert dataset"
      ],
      "metadata": {
        "id": "JeHn8KcQ8f1R"
      }
    },
    {
      "cell_type": "code",
      "source": [
        "# Import dataset\n",
        "NASA_dataset = pd.read_csv(\"/content/drive/MyDrive/IR-SEED/B0005.csv\")\n",
        "\n",
        "# Shuffle dataset\n",
        "NASA_dataset = NASA_dataset.sample(frac=1, random_state=64)\n",
        "\n",
        "# Drop unecessary columns\n",
        "NASA_dataset = NASA_dataset.drop([\"Current_charge\", \"Voltage_charge\", \"type\", \"ambient_temperature\", \"time\", \"Battery\"], axis=1)\n",
        "\n",
        "# Split to training and test sets\n",
        "training_set = NASA_dataset[:int(len(NASA_dataset) * 0.8)]\n",
        "testing_set = NASA_dataset[int(len(NASA_dataset) * 0.8):]\n",
        "\n",
        "# Extract features\n",
        "train_in = training_set.drop(\"Capacity\", axis=1)\n",
        "test_in = testing_set.drop(\"Capacity\", axis=1)\n",
        "\n",
        "# Extract labels\n",
        "train_out = training_set[\"Capacity\"]\n",
        "test_out = testing_set[\"Capacity\"]\n",
        "\n",
        "# Convert features to tensors\n",
        "train_in = tf.constant(train_in)\n",
        "train_out = tf.constant(train_out)\n",
        "\n",
        "# Convert labels to tensors\n",
        "test_in = tf.constant(test_in)\n",
        "test_out = tf.constant(test_out)"
      ],
      "metadata": {
        "id": "LWt698Sv_Alr"
      },
      "execution_count": 2,
      "outputs": []
    },
    {
      "cell_type": "markdown",
      "source": [
        "### Build model (using the Functional API)"
      ],
      "metadata": {
        "id": "QF5nN4p0O1E_"
      }
    },
    {
      "cell_type": "code",
      "source": [
        "# Seed rng\n",
        "tf.random.set_seed(64)\n",
        "\n",
        "# Define layers\n",
        "input_layer = tf.keras.layers.Input(shape=train_in.shape[1:]) # Input layer\n",
        "hidden_layer = tf.keras.layers.Dense(10, activation=\"relu\")(input_layer) # Hidden layer\n",
        "output_layer = tf.keras.layers.Dense(1)(hidden_layer) # Output layer \n",
        "\n",
        "# Define model\n",
        "soh_estimator = tf.keras.Model(inputs=[input_layer], outputs=[output_layer])\n",
        "\n",
        "# Compile model\n",
        "soh_estimator.compile(loss=\"mae\",\n",
        "                      optimizer=\"adam\",\n",
        "                      metrics=\"mse\")\n",
        "\n",
        "# Train model\n",
        "history = soh_estimator.fit(train_in, train_out, epochs=10)"
      ],
      "metadata": {
        "colab": {
          "base_uri": "https://localhost:8080/"
        },
        "id": "x0LYRfP_PQrv",
        "outputId": "0ec0b68e-065a-49e5-9ba9-c724a89a2140"
      },
      "execution_count": 23,
      "outputs": [
        {
          "output_type": "stream",
          "name": "stdout",
          "text": [
            "Epoch 1/10\n",
            "1129/1129 [==============================] - 3s 2ms/step - loss: 87.3422 - mse: 58408.4180\n",
            "Epoch 2/10\n",
            "1129/1129 [==============================] - 3s 2ms/step - loss: 0.4505 - mse: 0.4365\n",
            "Epoch 3/10\n",
            "1129/1129 [==============================] - 4s 4ms/step - loss: 0.3705 - mse: 0.2943\n",
            "Epoch 4/10\n",
            "1129/1129 [==============================] - 4s 4ms/step - loss: 0.4464 - mse: 0.3863\n",
            "Epoch 5/10\n",
            "1129/1129 [==============================] - 3s 2ms/step - loss: 0.4404 - mse: 0.4311\n",
            "Epoch 6/10\n",
            "1129/1129 [==============================] - 3s 2ms/step - loss: 0.4238 - mse: 0.3556\n",
            "Epoch 7/10\n",
            "1129/1129 [==============================] - 3s 2ms/step - loss: 0.3992 - mse: 0.3316\n",
            "Epoch 8/10\n",
            "1129/1129 [==============================] - 3s 2ms/step - loss: 0.4449 - mse: 0.4194\n",
            "Epoch 9/10\n",
            "1129/1129 [==============================] - 3s 2ms/step - loss: 0.3978 - mse: 0.3280\n",
            "Epoch 10/10\n",
            "1129/1129 [==============================] - 3s 2ms/step - loss: 0.4208 - mse: 0.3711\n"
          ]
        }
      ]
    },
    {
      "cell_type": "markdown",
      "source": [
        "### Training visualization"
      ],
      "metadata": {
        "id": "PZ960aQ5XZ8e"
      }
    },
    {
      "cell_type": "code",
      "source": [
        "pd.DataFrame(history.history)"
      ],
      "metadata": {
        "colab": {
          "base_uri": "https://localhost:8080/",
          "height": 363
        },
        "id": "DTSdTWblZktW",
        "outputId": "03f1f135-08b7-43e6-f9ea-5681252777ad"
      },
      "execution_count": 24,
      "outputs": [
        {
          "output_type": "execute_result",
          "data": {
            "text/plain": [
              "        loss           mse\n",
              "0  87.342178  58408.417969\n",
              "1   0.450550      0.436480\n",
              "2   0.370496      0.294324\n",
              "3   0.446370      0.386269\n",
              "4   0.440388      0.431119\n",
              "5   0.423809      0.355611\n",
              "6   0.399155      0.331605\n",
              "7   0.444857      0.419414\n",
              "8   0.397835      0.327995\n",
              "9   0.420817      0.371056"
            ],
            "text/html": [
              "\n",
              "  <div id=\"df-14aff6b0-6584-4c19-9546-7b985196db4f\">\n",
              "    <div class=\"colab-df-container\">\n",
              "      <div>\n",
              "<style scoped>\n",
              "    .dataframe tbody tr th:only-of-type {\n",
              "        vertical-align: middle;\n",
              "    }\n",
              "\n",
              "    .dataframe tbody tr th {\n",
              "        vertical-align: top;\n",
              "    }\n",
              "\n",
              "    .dataframe thead th {\n",
              "        text-align: right;\n",
              "    }\n",
              "</style>\n",
              "<table border=\"1\" class=\"dataframe\">\n",
              "  <thead>\n",
              "    <tr style=\"text-align: right;\">\n",
              "      <th></th>\n",
              "      <th>loss</th>\n",
              "      <th>mse</th>\n",
              "    </tr>\n",
              "  </thead>\n",
              "  <tbody>\n",
              "    <tr>\n",
              "      <th>0</th>\n",
              "      <td>87.342178</td>\n",
              "      <td>58408.417969</td>\n",
              "    </tr>\n",
              "    <tr>\n",
              "      <th>1</th>\n",
              "      <td>0.450550</td>\n",
              "      <td>0.436480</td>\n",
              "    </tr>\n",
              "    <tr>\n",
              "      <th>2</th>\n",
              "      <td>0.370496</td>\n",
              "      <td>0.294324</td>\n",
              "    </tr>\n",
              "    <tr>\n",
              "      <th>3</th>\n",
              "      <td>0.446370</td>\n",
              "      <td>0.386269</td>\n",
              "    </tr>\n",
              "    <tr>\n",
              "      <th>4</th>\n",
              "      <td>0.440388</td>\n",
              "      <td>0.431119</td>\n",
              "    </tr>\n",
              "    <tr>\n",
              "      <th>5</th>\n",
              "      <td>0.423809</td>\n",
              "      <td>0.355611</td>\n",
              "    </tr>\n",
              "    <tr>\n",
              "      <th>6</th>\n",
              "      <td>0.399155</td>\n",
              "      <td>0.331605</td>\n",
              "    </tr>\n",
              "    <tr>\n",
              "      <th>7</th>\n",
              "      <td>0.444857</td>\n",
              "      <td>0.419414</td>\n",
              "    </tr>\n",
              "    <tr>\n",
              "      <th>8</th>\n",
              "      <td>0.397835</td>\n",
              "      <td>0.327995</td>\n",
              "    </tr>\n",
              "    <tr>\n",
              "      <th>9</th>\n",
              "      <td>0.420817</td>\n",
              "      <td>0.371056</td>\n",
              "    </tr>\n",
              "  </tbody>\n",
              "</table>\n",
              "</div>\n",
              "      <button class=\"colab-df-convert\" onclick=\"convertToInteractive('df-14aff6b0-6584-4c19-9546-7b985196db4f')\"\n",
              "              title=\"Convert this dataframe to an interactive table.\"\n",
              "              style=\"display:none;\">\n",
              "        \n",
              "  <svg xmlns=\"http://www.w3.org/2000/svg\" height=\"24px\"viewBox=\"0 0 24 24\"\n",
              "       width=\"24px\">\n",
              "    <path d=\"M0 0h24v24H0V0z\" fill=\"none\"/>\n",
              "    <path d=\"M18.56 5.44l.94 2.06.94-2.06 2.06-.94-2.06-.94-.94-2.06-.94 2.06-2.06.94zm-11 1L8.5 8.5l.94-2.06 2.06-.94-2.06-.94L8.5 2.5l-.94 2.06-2.06.94zm10 10l.94 2.06.94-2.06 2.06-.94-2.06-.94-.94-2.06-.94 2.06-2.06.94z\"/><path d=\"M17.41 7.96l-1.37-1.37c-.4-.4-.92-.59-1.43-.59-.52 0-1.04.2-1.43.59L10.3 9.45l-7.72 7.72c-.78.78-.78 2.05 0 2.83L4 21.41c.39.39.9.59 1.41.59.51 0 1.02-.2 1.41-.59l7.78-7.78 2.81-2.81c.8-.78.8-2.07 0-2.86zM5.41 20L4 18.59l7.72-7.72 1.47 1.35L5.41 20z\"/>\n",
              "  </svg>\n",
              "      </button>\n",
              "      \n",
              "  <style>\n",
              "    .colab-df-container {\n",
              "      display:flex;\n",
              "      flex-wrap:wrap;\n",
              "      gap: 12px;\n",
              "    }\n",
              "\n",
              "    .colab-df-convert {\n",
              "      background-color: #E8F0FE;\n",
              "      border: none;\n",
              "      border-radius: 50%;\n",
              "      cursor: pointer;\n",
              "      display: none;\n",
              "      fill: #1967D2;\n",
              "      height: 32px;\n",
              "      padding: 0 0 0 0;\n",
              "      width: 32px;\n",
              "    }\n",
              "\n",
              "    .colab-df-convert:hover {\n",
              "      background-color: #E2EBFA;\n",
              "      box-shadow: 0px 1px 2px rgba(60, 64, 67, 0.3), 0px 1px 3px 1px rgba(60, 64, 67, 0.15);\n",
              "      fill: #174EA6;\n",
              "    }\n",
              "\n",
              "    [theme=dark] .colab-df-convert {\n",
              "      background-color: #3B4455;\n",
              "      fill: #D2E3FC;\n",
              "    }\n",
              "\n",
              "    [theme=dark] .colab-df-convert:hover {\n",
              "      background-color: #434B5C;\n",
              "      box-shadow: 0px 1px 3px 1px rgba(0, 0, 0, 0.15);\n",
              "      filter: drop-shadow(0px 1px 2px rgba(0, 0, 0, 0.3));\n",
              "      fill: #FFFFFF;\n",
              "    }\n",
              "  </style>\n",
              "\n",
              "      <script>\n",
              "        const buttonEl =\n",
              "          document.querySelector('#df-14aff6b0-6584-4c19-9546-7b985196db4f button.colab-df-convert');\n",
              "        buttonEl.style.display =\n",
              "          google.colab.kernel.accessAllowed ? 'block' : 'none';\n",
              "\n",
              "        async function convertToInteractive(key) {\n",
              "          const element = document.querySelector('#df-14aff6b0-6584-4c19-9546-7b985196db4f');\n",
              "          const dataTable =\n",
              "            await google.colab.kernel.invokeFunction('convertToInteractive',\n",
              "                                                     [key], {});\n",
              "          if (!dataTable) return;\n",
              "\n",
              "          const docLinkHtml = 'Like what you see? Visit the ' +\n",
              "            '<a target=\"_blank\" href=https://colab.research.google.com/notebooks/data_table.ipynb>data table notebook</a>'\n",
              "            + ' to learn more about interactive tables.';\n",
              "          element.innerHTML = '';\n",
              "          dataTable['output_type'] = 'display_data';\n",
              "          await google.colab.output.renderOutput(dataTable, element);\n",
              "          const docLink = document.createElement('div');\n",
              "          docLink.innerHTML = docLinkHtml;\n",
              "          element.appendChild(docLink);\n",
              "        }\n",
              "      </script>\n",
              "    </div>\n",
              "  </div>\n",
              "  "
            ]
          },
          "metadata": {},
          "execution_count": 24
        }
      ]
    },
    {
      "cell_type": "code",
      "source": [
        "pd.DataFrame(history.history)[1:]"
      ],
      "metadata": {
        "colab": {
          "base_uri": "https://localhost:8080/",
          "height": 331
        },
        "id": "R1M-mcSsZtcy",
        "outputId": "21c4070e-475a-49c0-ee29-76e1d3a73d85"
      },
      "execution_count": 25,
      "outputs": [
        {
          "output_type": "execute_result",
          "data": {
            "text/plain": [
              "       loss       mse\n",
              "1  0.450550  0.436480\n",
              "2  0.370496  0.294324\n",
              "3  0.446370  0.386269\n",
              "4  0.440388  0.431119\n",
              "5  0.423809  0.355611\n",
              "6  0.399155  0.331605\n",
              "7  0.444857  0.419414\n",
              "8  0.397835  0.327995\n",
              "9  0.420817  0.371056"
            ],
            "text/html": [
              "\n",
              "  <div id=\"df-a7ee1456-10ff-48ac-adfc-e0a2e17d1c57\">\n",
              "    <div class=\"colab-df-container\">\n",
              "      <div>\n",
              "<style scoped>\n",
              "    .dataframe tbody tr th:only-of-type {\n",
              "        vertical-align: middle;\n",
              "    }\n",
              "\n",
              "    .dataframe tbody tr th {\n",
              "        vertical-align: top;\n",
              "    }\n",
              "\n",
              "    .dataframe thead th {\n",
              "        text-align: right;\n",
              "    }\n",
              "</style>\n",
              "<table border=\"1\" class=\"dataframe\">\n",
              "  <thead>\n",
              "    <tr style=\"text-align: right;\">\n",
              "      <th></th>\n",
              "      <th>loss</th>\n",
              "      <th>mse</th>\n",
              "    </tr>\n",
              "  </thead>\n",
              "  <tbody>\n",
              "    <tr>\n",
              "      <th>1</th>\n",
              "      <td>0.450550</td>\n",
              "      <td>0.436480</td>\n",
              "    </tr>\n",
              "    <tr>\n",
              "      <th>2</th>\n",
              "      <td>0.370496</td>\n",
              "      <td>0.294324</td>\n",
              "    </tr>\n",
              "    <tr>\n",
              "      <th>3</th>\n",
              "      <td>0.446370</td>\n",
              "      <td>0.386269</td>\n",
              "    </tr>\n",
              "    <tr>\n",
              "      <th>4</th>\n",
              "      <td>0.440388</td>\n",
              "      <td>0.431119</td>\n",
              "    </tr>\n",
              "    <tr>\n",
              "      <th>5</th>\n",
              "      <td>0.423809</td>\n",
              "      <td>0.355611</td>\n",
              "    </tr>\n",
              "    <tr>\n",
              "      <th>6</th>\n",
              "      <td>0.399155</td>\n",
              "      <td>0.331605</td>\n",
              "    </tr>\n",
              "    <tr>\n",
              "      <th>7</th>\n",
              "      <td>0.444857</td>\n",
              "      <td>0.419414</td>\n",
              "    </tr>\n",
              "    <tr>\n",
              "      <th>8</th>\n",
              "      <td>0.397835</td>\n",
              "      <td>0.327995</td>\n",
              "    </tr>\n",
              "    <tr>\n",
              "      <th>9</th>\n",
              "      <td>0.420817</td>\n",
              "      <td>0.371056</td>\n",
              "    </tr>\n",
              "  </tbody>\n",
              "</table>\n",
              "</div>\n",
              "      <button class=\"colab-df-convert\" onclick=\"convertToInteractive('df-a7ee1456-10ff-48ac-adfc-e0a2e17d1c57')\"\n",
              "              title=\"Convert this dataframe to an interactive table.\"\n",
              "              style=\"display:none;\">\n",
              "        \n",
              "  <svg xmlns=\"http://www.w3.org/2000/svg\" height=\"24px\"viewBox=\"0 0 24 24\"\n",
              "       width=\"24px\">\n",
              "    <path d=\"M0 0h24v24H0V0z\" fill=\"none\"/>\n",
              "    <path d=\"M18.56 5.44l.94 2.06.94-2.06 2.06-.94-2.06-.94-.94-2.06-.94 2.06-2.06.94zm-11 1L8.5 8.5l.94-2.06 2.06-.94-2.06-.94L8.5 2.5l-.94 2.06-2.06.94zm10 10l.94 2.06.94-2.06 2.06-.94-2.06-.94-.94-2.06-.94 2.06-2.06.94z\"/><path d=\"M17.41 7.96l-1.37-1.37c-.4-.4-.92-.59-1.43-.59-.52 0-1.04.2-1.43.59L10.3 9.45l-7.72 7.72c-.78.78-.78 2.05 0 2.83L4 21.41c.39.39.9.59 1.41.59.51 0 1.02-.2 1.41-.59l7.78-7.78 2.81-2.81c.8-.78.8-2.07 0-2.86zM5.41 20L4 18.59l7.72-7.72 1.47 1.35L5.41 20z\"/>\n",
              "  </svg>\n",
              "      </button>\n",
              "      \n",
              "  <style>\n",
              "    .colab-df-container {\n",
              "      display:flex;\n",
              "      flex-wrap:wrap;\n",
              "      gap: 12px;\n",
              "    }\n",
              "\n",
              "    .colab-df-convert {\n",
              "      background-color: #E8F0FE;\n",
              "      border: none;\n",
              "      border-radius: 50%;\n",
              "      cursor: pointer;\n",
              "      display: none;\n",
              "      fill: #1967D2;\n",
              "      height: 32px;\n",
              "      padding: 0 0 0 0;\n",
              "      width: 32px;\n",
              "    }\n",
              "\n",
              "    .colab-df-convert:hover {\n",
              "      background-color: #E2EBFA;\n",
              "      box-shadow: 0px 1px 2px rgba(60, 64, 67, 0.3), 0px 1px 3px 1px rgba(60, 64, 67, 0.15);\n",
              "      fill: #174EA6;\n",
              "    }\n",
              "\n",
              "    [theme=dark] .colab-df-convert {\n",
              "      background-color: #3B4455;\n",
              "      fill: #D2E3FC;\n",
              "    }\n",
              "\n",
              "    [theme=dark] .colab-df-convert:hover {\n",
              "      background-color: #434B5C;\n",
              "      box-shadow: 0px 1px 3px 1px rgba(0, 0, 0, 0.15);\n",
              "      filter: drop-shadow(0px 1px 2px rgba(0, 0, 0, 0.3));\n",
              "      fill: #FFFFFF;\n",
              "    }\n",
              "  </style>\n",
              "\n",
              "      <script>\n",
              "        const buttonEl =\n",
              "          document.querySelector('#df-a7ee1456-10ff-48ac-adfc-e0a2e17d1c57 button.colab-df-convert');\n",
              "        buttonEl.style.display =\n",
              "          google.colab.kernel.accessAllowed ? 'block' : 'none';\n",
              "\n",
              "        async function convertToInteractive(key) {\n",
              "          const element = document.querySelector('#df-a7ee1456-10ff-48ac-adfc-e0a2e17d1c57');\n",
              "          const dataTable =\n",
              "            await google.colab.kernel.invokeFunction('convertToInteractive',\n",
              "                                                     [key], {});\n",
              "          if (!dataTable) return;\n",
              "\n",
              "          const docLinkHtml = 'Like what you see? Visit the ' +\n",
              "            '<a target=\"_blank\" href=https://colab.research.google.com/notebooks/data_table.ipynb>data table notebook</a>'\n",
              "            + ' to learn more about interactive tables.';\n",
              "          element.innerHTML = '';\n",
              "          dataTable['output_type'] = 'display_data';\n",
              "          await google.colab.output.renderOutput(dataTable, element);\n",
              "          const docLink = document.createElement('div');\n",
              "          docLink.innerHTML = docLinkHtml;\n",
              "          element.appendChild(docLink);\n",
              "        }\n",
              "      </script>\n",
              "    </div>\n",
              "  </div>\n",
              "  "
            ]
          },
          "metadata": {},
          "execution_count": 25
        }
      ]
    },
    {
      "cell_type": "code",
      "source": [
        "pd.DataFrame(history.history)[1:].plot()\n",
        "plt.ylabel(\"Loss\")\n",
        "plt.xlabel(\"Epochs\")"
      ],
      "metadata": {
        "colab": {
          "base_uri": "https://localhost:8080/",
          "height": 296
        },
        "id": "-wDIEYT_XhRU",
        "outputId": "fa722543-a51f-4c9f-a67e-bf93c315e55b"
      },
      "execution_count": 26,
      "outputs": [
        {
          "output_type": "execute_result",
          "data": {
            "text/plain": [
              "Text(0.5, 0, 'Epochs')"
            ]
          },
          "metadata": {},
          "execution_count": 26
        },
        {
          "output_type": "display_data",
          "data": {
            "text/plain": [
              "<Figure size 432x288 with 1 Axes>"
            ],
            "image/png": "[encoded data removed]"
          },
          "metadata": {
            "needs_background": "light"
          }
        }
      ]
    },
    {
      "cell_type": "markdown",
      "source": [
        "### Model evaluation"
      ],
      "metadata": {
        "id": "ZsCx9qN2RoB7"
      }
    },
    {
      "cell_type": "code",
      "source": [
        "# evaluate()\n",
        "soh_estimator.evaluate(test_in, test_out)"
      ],
      "metadata": {
        "colab": {
          "base_uri": "https://localhost:8080/"
        },
        "id": "sT9C22t8RwvZ",
        "outputId": "19e110d2-6df9-4dc8-c567-772218c5b47c"
      },
      "execution_count": 27,
      "outputs": [
        {
          "output_type": "stream",
          "name": "stdout",
          "text": [
            "283/283 [==============================] - 1s 2ms/step - loss: 0.5585 - mse: 0.4266\n"
          ]
        },
        {
          "output_type": "execute_result",
          "data": {
            "text/plain": [
              "[0.558508038520813, 0.4266136586666107]"
            ]
          },
          "metadata": {},
          "execution_count": 27
        }
      ]
    },
    {
      "cell_type": "code",
      "source": [
        "test_in"
      ],
      "metadata": {
        "colab": {
          "base_uri": "https://localhost:8080/"
        },
        "id": "ibNXc8fMVJNZ",
        "outputId": "17ac6b47-8f3f-4db1-90ae-ba14c5b8fd3a"
      },
      "execution_count": 28,
      "outputs": [
        {
          "output_type": "execute_result",
          "data": {
            "text/plain": [
              "<tf.Tensor: shape=(9025, 5), dtype=float64, numpy=\n",
              "array([[ 3.49843352e+00, -2.01420247e+00,  3.34222528e+01,\n",
              "         2.01500000e+03,  4.20000000e+01],\n",
              "       [ 3.86603840e+00, -2.01165855e+00,  2.61400353e+01,\n",
              "         1.32047000e+02,  1.10000000e+02],\n",
              "       [ 3.51623196e+00, -2.01391613e+00,  3.09461414e+01,\n",
              "         9.65687000e+02,  1.50000000e+02],\n",
              "       ...,\n",
              "       [ 3.72000418e+00, -2.01322427e+00,  2.93400818e+01,\n",
              "         5.53546000e+02,  8.50000000e+01],\n",
              "       [ 3.66723755e+00, -2.01150584e+00,  2.93618032e+01,\n",
              "         7.40969000e+02,  8.10000000e+01],\n",
              "       [ 3.80996165e+00, -2.01401784e+00,  2.55818919e+01,\n",
              "         1.69516000e+02,  1.46000000e+02]])>"
            ]
          },
          "metadata": {},
          "execution_count": 28
        }
      ]
    },
    {
      "cell_type": "code",
      "source": [
        "test_out"
      ],
      "metadata": {
        "colab": {
          "base_uri": "https://localhost:8080/"
        },
        "id": "reXhjHCrVNMS",
        "outputId": "84f1938a-dc0d-45b2-9722-30478ad2fd10"
      },
      "execution_count": 29,
      "outputs": [
        {
          "output_type": "execute_result",
          "data": {
            "text/plain": [
              "<tf.Tensor: shape=(9025,), dtype=float64, numpy=\n",
              "array([1.76231507, 1.44904216, 1.32387242, ..., 1.5382366 , 1.55976595,\n",
              "       1.3231709 ])>"
            ]
          },
          "metadata": {},
          "execution_count": 29
        }
      ]
    },
    {
      "cell_type": "code",
      "source": [
        "min(tf.squeeze(soh_estimator.predict(test_in)))"
      ],
      "metadata": {
        "colab": {
          "base_uri": "https://localhost:8080/"
        },
        "id": "gf3Q_T6LWRsF",
        "outputId": "50471f80-dcc4-4d3d-90ad-69f59f49c895"
      },
      "execution_count": 30,
      "outputs": [
        {
          "output_type": "execute_result",
          "data": {
            "text/plain": [
              "<tf.Tensor: shape=(), dtype=float32, numpy=0.06806722>"
            ]
          },
          "metadata": {},
          "execution_count": 30
        }
      ]
    },
    {
      "cell_type": "code",
      "source": [
        "tf.keras.utils.plot_model(model=soh_estimator, show_shapes=True)"
      ],
      "metadata": {
        "id": "oK7-vlEHLM4C",
        "colab": {
          "base_uri": "https://localhost:8080/",
          "height": 312
        },
        "outputId": "f9efa3d6-8043-4824-d155-e9175e3b423d"
      },
      "execution_count": 31,
      "outputs": [
        {
          "output_type": "execute_result",
          "data": {
            "text/plain": [
              "<IPython.core.display.Image object>"
            ],
            "image/png": "[encoded data removed]"
          },
          "metadata": {},
          "execution_count": 31
        }
      ]
    }
  ]
}