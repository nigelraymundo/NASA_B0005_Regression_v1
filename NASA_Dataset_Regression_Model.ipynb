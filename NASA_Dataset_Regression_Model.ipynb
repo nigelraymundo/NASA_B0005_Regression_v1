{
  "nbformat": 4,
  "nbformat_minor": 0,
  "metadata": {
    "colab": {
      "name": "NASA_Dataset_Regression_Model.ipynb",
      "provenance": [],
      "collapsed_sections": [],
      "mount_file_id": "1XheuQ02j5yhiRpFt4yZpDHAg8tgEbrm8",
      "authorship_tag": "ABX9TyPqQ0BQfwnT7jD+J7r9bKBu"
    },
    "kernelspec": {
      "name": "python3",
      "display_name": "Python 3"
    },
    "language_info": {
      "name": "python"
    },
    "accelerator": "GPU",
    "gpuClass": "standard"
  },
  "cells": [
    {
      "cell_type": "markdown",
      "source": [
        "### Libraries and dependencies"
      ],
      "metadata": {
        "id": "Gsae4ilb66yU"
      }
    },
    {
      "cell_type": "code",
      "execution_count": 94,
      "metadata": {
        "id": "-Rl-b80a-bPL"
      },
      "outputs": [],
      "source": [
        "# Import libraries\n",
        "import tensorflow as tf\n",
        "import pandas as pd\n",
        "import matplotlib.pyplot as plt"
      ]
    },
    {
      "cell_type": "markdown",
      "source": [
        "### Import and convert dataset"
      ],
      "metadata": {
        "id": "JeHn8KcQ8f1R"
      }
    },
    {
      "cell_type": "code",
      "source": [
        "# Import dataset\n",
        "NASA_dataset = pd.read_csv(\"/content/drive/MyDrive/IR-SEED/B0005.csv\")\n",
        "\n",
        "# Shuffle dataset\n",
        "NASA_dataset = NASA_dataset.sample(frac=1, random_state=64)\n",
        "\n",
        "# Drop unecessary columns\n",
        "NASA_dataset = NASA_dataset.drop([\"Current_charge\", \"Voltage_charge\", \"type\", \"ambient_temperature\", \"time\", \"Battery\"], axis=1)\n",
        "\n",
        "# Split to training and test sets\n",
        "training_set = NASA_dataset[:int(len(NASA_dataset) * 0.8)]\n",
        "testing_set = NASA_dataset[int(len(NASA_dataset) * 0.8):]\n",
        "\n",
        "# Extract features\n",
        "train_in = training_set.drop(\"Capacity\", axis=1)\n",
        "test_in = testing_set.drop(\"Capacity\", axis=1)\n",
        "\n",
        "# Extract labels\n",
        "train_out = training_set[\"Capacity\"]\n",
        "test_out = testing_set[\"Capacity\"]\n",
        "\n",
        "# Convert features to tensors\n",
        "train_in = tf.constant(train_in)\n",
        "train_out = tf.constant(train_out)\n",
        "\n",
        "# Convert labels to tensors\n",
        "test_in = tf.constant(test_in)\n",
        "test_out = tf.constant(test_out)"
      ],
      "metadata": {
        "id": "LWt698Sv_Alr"
      },
      "execution_count": 95,
      "outputs": []
    },
    {
      "cell_type": "markdown",
      "source": [
        "### Build model (using the Functional API)"
      ],
      "metadata": {
        "id": "QF5nN4p0O1E_"
      }
    },
    {
      "cell_type": "code",
      "source": [
        "# Seed rng\n",
        "tf.random.set_seed(64)\n",
        "\n",
        "# Define layers\n",
        "input_layer = tf.keras.layers.Input(shape=train_in.shape[1:]) # Input layer\n",
        "hidden_layer_1 = tf.keras.layers.Dense(10, activation=\"relu\")(input_layer) # Hidden layer 1\n",
        "hidden_layer_2 = tf.keras.layers.Dense(10, activation=\"relu\")(hidden_layer_1) # Hidden layer 2\n",
        "output_layer = tf.keras.layers.Dense(1)(hidden_layer_2) # Output layer \n",
        "\n",
        "# Define model\n",
        "soh_estimator = tf.keras.Model(inputs=[input_layer], outputs=[output_layer])\n",
        "\n",
        "# Compile model\n",
        "soh_estimator.compile(loss=\"mae\",\n",
        "                      optimizer=tf.keras.optimizers.Adam(learning_rate=0.01),\n",
        "                      metrics=\"mse\")\n",
        "\n",
        "# Train model\n",
        "history = soh_estimator.fit(train_in, train_out, epochs=10)"
      ],
      "metadata": {
        "colab": {
          "base_uri": "https://localhost:8080/"
        },
        "id": "x0LYRfP_PQrv",
        "outputId": "8facb76b-94da-4a16-8028-3a44054b47d1"
      },
      "execution_count": 96,
      "outputs": [
        {
          "output_type": "stream",
          "name": "stdout",
          "text": [
            "Epoch 1/10\n",
            "1129/1129 [==============================] - 3s 2ms/step - loss: 2.3889 - mse: 16.5158\n",
            "Epoch 2/10\n",
            "1129/1129 [==============================] - 3s 2ms/step - loss: 0.7908 - mse: 1.4120\n",
            "Epoch 3/10\n",
            "1129/1129 [==============================] - 3s 2ms/step - loss: 0.2285 - mse: 0.1161\n",
            "Epoch 4/10\n",
            "1129/1129 [==============================] - 3s 2ms/step - loss: 0.1250 - mse: 0.0300\n",
            "Epoch 5/10\n",
            "1129/1129 [==============================] - 3s 3ms/step - loss: 0.0815 - mse: 0.0126\n",
            "Epoch 6/10\n",
            "1129/1129 [==============================] - 4s 4ms/step - loss: 0.0392 - mse: 0.0029\n",
            "Epoch 7/10\n",
            "1129/1129 [==============================] - 4s 3ms/step - loss: 0.0331 - mse: 0.0020\n",
            "Epoch 8/10\n",
            "1129/1129 [==============================] - 3s 2ms/step - loss: 0.0338 - mse: 0.0021\n",
            "Epoch 9/10\n",
            "1129/1129 [==============================] - 3s 2ms/step - loss: 0.0341 - mse: 0.0022\n",
            "Epoch 10/10\n",
            "1129/1129 [==============================] - 3s 2ms/step - loss: 0.0321 - mse: 0.0019\n"
          ]
        }
      ]
    },
    {
      "cell_type": "markdown",
      "source": [
        "### Training visualization"
      ],
      "metadata": {
        "id": "PZ960aQ5XZ8e"
      }
    },
    {
      "cell_type": "code",
      "source": [
        "pd.DataFrame(history.history)"
      ],
      "metadata": {
        "colab": {
          "base_uri": "https://localhost:8080/",
          "height": 363
        },
        "id": "DTSdTWblZktW",
        "outputId": "d396fdc3-0910-4c3d-da3d-d0d8f103ab92"
      },
      "execution_count": 97,
      "outputs": [
        {
          "output_type": "execute_result",
          "data": {
            "text/plain": [
              "       loss        mse\n",
              "0  2.388922  16.515764\n",
              "1  0.790838   1.411998\n",
              "2  0.228499   0.116137\n",
              "3  0.124993   0.030039\n",
              "4  0.081516   0.012627\n",
              "5  0.039248   0.002882\n",
              "6  0.033113   0.001975\n",
              "7  0.033819   0.002149\n",
              "8  0.034105   0.002173\n",
              "9  0.032111   0.001939"
            ],
            "text/html": [
              "\n",
              "  <div id=\"df-b2a4a331-a3c9-48fd-8f13-24b87dee0cdf\">\n",
              "    <div class=\"colab-df-container\">\n",
              "      <div>\n",
              "<style scoped>\n",
              "    .dataframe tbody tr th:only-of-type {\n",
              "        vertical-align: middle;\n",
              "    }\n",
              "\n",
              "    .dataframe tbody tr th {\n",
              "        vertical-align: top;\n",
              "    }\n",
              "\n",
              "    .dataframe thead th {\n",
              "        text-align: right;\n",
              "    }\n",
              "</style>\n",
              "<table border=\"1\" class=\"dataframe\">\n",
              "  <thead>\n",
              "    <tr style=\"text-align: right;\">\n",
              "      <th></th>\n",
              "      <th>loss</th>\n",
              "      <th>mse</th>\n",
              "    </tr>\n",
              "  </thead>\n",
              "  <tbody>\n",
              "    <tr>\n",
              "      <th>0</th>\n",
              "      <td>2.388922</td>\n",
              "      <td>16.515764</td>\n",
              "    </tr>\n",
              "    <tr>\n",
              "      <th>1</th>\n",
              "      <td>0.790838</td>\n",
              "      <td>1.411998</td>\n",
              "    </tr>\n",
              "    <tr>\n",
              "      <th>2</th>\n",
              "      <td>0.228499</td>\n",
              "      <td>0.116137</td>\n",
              "    </tr>\n",
              "    <tr>\n",
              "      <th>3</th>\n",
              "      <td>0.124993</td>\n",
              "      <td>0.030039</td>\n",
              "    </tr>\n",
              "    <tr>\n",
              "      <th>4</th>\n",
              "      <td>0.081516</td>\n",
              "      <td>0.012627</td>\n",
              "    </tr>\n",
              "    <tr>\n",
              "      <th>5</th>\n",
              "      <td>0.039248</td>\n",
              "      <td>0.002882</td>\n",
              "    </tr>\n",
              "    <tr>\n",
              "      <th>6</th>\n",
              "      <td>0.033113</td>\n",
              "      <td>0.001975</td>\n",
              "    </tr>\n",
              "    <tr>\n",
              "      <th>7</th>\n",
              "      <td>0.033819</td>\n",
              "      <td>0.002149</td>\n",
              "    </tr>\n",
              "    <tr>\n",
              "      <th>8</th>\n",
              "      <td>0.034105</td>\n",
              "      <td>0.002173</td>\n",
              "    </tr>\n",
              "    <tr>\n",
              "      <th>9</th>\n",
              "      <td>0.032111</td>\n",
              "      <td>0.001939</td>\n",
              "    </tr>\n",
              "  </tbody>\n",
              "</table>\n",
              "</div>\n",
              "      <button class=\"colab-df-convert\" onclick=\"convertToInteractive('df-b2a4a331-a3c9-48fd-8f13-24b87dee0cdf')\"\n",
              "              title=\"Convert this dataframe to an interactive table.\"\n",
              "              style=\"display:none;\">\n",
              "        \n",
              "  <svg xmlns=\"http://www.w3.org/2000/svg\" height=\"24px\"viewBox=\"0 0 24 24\"\n",
              "       width=\"24px\">\n",
              "    <path d=\"M0 0h24v24H0V0z\" fill=\"none\"/>\n",
              "    <path d=\"M18.56 5.44l.94 2.06.94-2.06 2.06-.94-2.06-.94-.94-2.06-.94 2.06-2.06.94zm-11 1L8.5 8.5l.94-2.06 2.06-.94-2.06-.94L8.5 2.5l-.94 2.06-2.06.94zm10 10l.94 2.06.94-2.06 2.06-.94-2.06-.94-.94-2.06-.94 2.06-2.06.94z\"/><path d=\"M17.41 7.96l-1.37-1.37c-.4-.4-.92-.59-1.43-.59-.52 0-1.04.2-1.43.59L10.3 9.45l-7.72 7.72c-.78.78-.78 2.05 0 2.83L4 21.41c.39.39.9.59 1.41.59.51 0 1.02-.2 1.41-.59l7.78-7.78 2.81-2.81c.8-.78.8-2.07 0-2.86zM5.41 20L4 18.59l7.72-7.72 1.47 1.35L5.41 20z\"/>\n",
              "  </svg>\n",
              "      </button>\n",
              "      \n",
              "  <style>\n",
              "    .colab-df-container {\n",
              "      display:flex;\n",
              "      flex-wrap:wrap;\n",
              "      gap: 12px;\n",
              "    }\n",
              "\n",
              "    .colab-df-convert {\n",
              "      background-color: #E8F0FE;\n",
              "      border: none;\n",
              "      border-radius: 50%;\n",
              "      cursor: pointer;\n",
              "      display: none;\n",
              "      fill: #1967D2;\n",
              "      height: 32px;\n",
              "      padding: 0 0 0 0;\n",
              "      width: 32px;\n",
              "    }\n",
              "\n",
              "    .colab-df-convert:hover {\n",
              "      background-color: #E2EBFA;\n",
              "      box-shadow: 0px 1px 2px rgba(60, 64, 67, 0.3), 0px 1px 3px 1px rgba(60, 64, 67, 0.15);\n",
              "      fill: #174EA6;\n",
              "    }\n",
              "\n",
              "    [theme=dark] .colab-df-convert {\n",
              "      background-color: #3B4455;\n",
              "      fill: #D2E3FC;\n",
              "    }\n",
              "\n",
              "    [theme=dark] .colab-df-convert:hover {\n",
              "      background-color: #434B5C;\n",
              "      box-shadow: 0px 1px 3px 1px rgba(0, 0, 0, 0.15);\n",
              "      filter: drop-shadow(0px 1px 2px rgba(0, 0, 0, 0.3));\n",
              "      fill: #FFFFFF;\n",
              "    }\n",
              "  </style>\n",
              "\n",
              "      <script>\n",
              "        const buttonEl =\n",
              "          document.querySelector('#df-b2a4a331-a3c9-48fd-8f13-24b87dee0cdf button.colab-df-convert');\n",
              "        buttonEl.style.display =\n",
              "          google.colab.kernel.accessAllowed ? 'block' : 'none';\n",
              "\n",
              "        async function convertToInteractive(key) {\n",
              "          const element = document.querySelector('#df-b2a4a331-a3c9-48fd-8f13-24b87dee0cdf');\n",
              "          const dataTable =\n",
              "            await google.colab.kernel.invokeFunction('convertToInteractive',\n",
              "                                                     [key], {});\n",
              "          if (!dataTable) return;\n",
              "\n",
              "          const docLinkHtml = 'Like what you see? Visit the ' +\n",
              "            '<a target=\"_blank\" href=https://colab.research.google.com/notebooks/data_table.ipynb>data table notebook</a>'\n",
              "            + ' to learn more about interactive tables.';\n",
              "          element.innerHTML = '';\n",
              "          dataTable['output_type'] = 'display_data';\n",
              "          await google.colab.output.renderOutput(dataTable, element);\n",
              "          const docLink = document.createElement('div');\n",
              "          docLink.innerHTML = docLinkHtml;\n",
              "          element.appendChild(docLink);\n",
              "        }\n",
              "      </script>\n",
              "    </div>\n",
              "  </div>\n",
              "  "
            ]
          },
          "metadata": {},
          "execution_count": 97
        }
      ]
    },
    {
      "cell_type": "code",
      "source": [
        "pd.DataFrame(history.history)[1:]"
      ],
      "metadata": {
        "colab": {
          "base_uri": "https://localhost:8080/",
          "height": 331
        },
        "id": "R1M-mcSsZtcy",
        "outputId": "4854a1d8-8b24-4824-d6ba-8d252a038b8c"
      },
      "execution_count": 98,
      "outputs": [
        {
          "output_type": "execute_result",
          "data": {
            "text/plain": [
              "       loss       mse\n",
              "1  0.790838  1.411998\n",
              "2  0.228499  0.116137\n",
              "3  0.124993  0.030039\n",
              "4  0.081516  0.012627\n",
              "5  0.039248  0.002882\n",
              "6  0.033113  0.001975\n",
              "7  0.033819  0.002149\n",
              "8  0.034105  0.002173\n",
              "9  0.032111  0.001939"
            ],
            "text/html": [
              "\n",
              "  <div id=\"df-f6e3db85-b14b-4913-b326-dff68289ae69\">\n",
              "    <div class=\"colab-df-container\">\n",
              "      <div>\n",
              "<style scoped>\n",
              "    .dataframe tbody tr th:only-of-type {\n",
              "        vertical-align: middle;\n",
              "    }\n",
              "\n",
              "    .dataframe tbody tr th {\n",
              "        vertical-align: top;\n",
              "    }\n",
              "\n",
              "    .dataframe thead th {\n",
              "        text-align: right;\n",
              "    }\n",
              "</style>\n",
              "<table border=\"1\" class=\"dataframe\">\n",
              "  <thead>\n",
              "    <tr style=\"text-align: right;\">\n",
              "      <th></th>\n",
              "      <th>loss</th>\n",
              "      <th>mse</th>\n",
              "    </tr>\n",
              "  </thead>\n",
              "  <tbody>\n",
              "    <tr>\n",
              "      <th>1</th>\n",
              "      <td>0.790838</td>\n",
              "      <td>1.411998</td>\n",
              "    </tr>\n",
              "    <tr>\n",
              "      <th>2</th>\n",
              "      <td>0.228499</td>\n",
              "      <td>0.116137</td>\n",
              "    </tr>\n",
              "    <tr>\n",
              "      <th>3</th>\n",
              "      <td>0.124993</td>\n",
              "      <td>0.030039</td>\n",
              "    </tr>\n",
              "    <tr>\n",
              "      <th>4</th>\n",
              "      <td>0.081516</td>\n",
              "      <td>0.012627</td>\n",
              "    </tr>\n",
              "    <tr>\n",
              "      <th>5</th>\n",
              "      <td>0.039248</td>\n",
              "      <td>0.002882</td>\n",
              "    </tr>\n",
              "    <tr>\n",
              "      <th>6</th>\n",
              "      <td>0.033113</td>\n",
              "      <td>0.001975</td>\n",
              "    </tr>\n",
              "    <tr>\n",
              "      <th>7</th>\n",
              "      <td>0.033819</td>\n",
              "      <td>0.002149</td>\n",
              "    </tr>\n",
              "    <tr>\n",
              "      <th>8</th>\n",
              "      <td>0.034105</td>\n",
              "      <td>0.002173</td>\n",
              "    </tr>\n",
              "    <tr>\n",
              "      <th>9</th>\n",
              "      <td>0.032111</td>\n",
              "      <td>0.001939</td>\n",
              "    </tr>\n",
              "  </tbody>\n",
              "</table>\n",
              "</div>\n",
              "      <button class=\"colab-df-convert\" onclick=\"convertToInteractive('df-f6e3db85-b14b-4913-b326-dff68289ae69')\"\n",
              "              title=\"Convert this dataframe to an interactive table.\"\n",
              "              style=\"display:none;\">\n",
              "        \n",
              "  <svg xmlns=\"http://www.w3.org/2000/svg\" height=\"24px\"viewBox=\"0 0 24 24\"\n",
              "       width=\"24px\">\n",
              "    <path d=\"M0 0h24v24H0V0z\" fill=\"none\"/>\n",
              "    <path d=\"M18.56 5.44l.94 2.06.94-2.06 2.06-.94-2.06-.94-.94-2.06-.94 2.06-2.06.94zm-11 1L8.5 8.5l.94-2.06 2.06-.94-2.06-.94L8.5 2.5l-.94 2.06-2.06.94zm10 10l.94 2.06.94-2.06 2.06-.94-2.06-.94-.94-2.06-.94 2.06-2.06.94z\"/><path d=\"M17.41 7.96l-1.37-1.37c-.4-.4-.92-.59-1.43-.59-.52 0-1.04.2-1.43.59L10.3 9.45l-7.72 7.72c-.78.78-.78 2.05 0 2.83L4 21.41c.39.39.9.59 1.41.59.51 0 1.02-.2 1.41-.59l7.78-7.78 2.81-2.81c.8-.78.8-2.07 0-2.86zM5.41 20L4 18.59l7.72-7.72 1.47 1.35L5.41 20z\"/>\n",
              "  </svg>\n",
              "      </button>\n",
              "      \n",
              "  <style>\n",
              "    .colab-df-container {\n",
              "      display:flex;\n",
              "      flex-wrap:wrap;\n",
              "      gap: 12px;\n",
              "    }\n",
              "\n",
              "    .colab-df-convert {\n",
              "      background-color: #E8F0FE;\n",
              "      border: none;\n",
              "      border-radius: 50%;\n",
              "      cursor: pointer;\n",
              "      display: none;\n",
              "      fill: #1967D2;\n",
              "      height: 32px;\n",
              "      padding: 0 0 0 0;\n",
              "      width: 32px;\n",
              "    }\n",
              "\n",
              "    .colab-df-convert:hover {\n",
              "      background-color: #E2EBFA;\n",
              "      box-shadow: 0px 1px 2px rgba(60, 64, 67, 0.3), 0px 1px 3px 1px rgba(60, 64, 67, 0.15);\n",
              "      fill: #174EA6;\n",
              "    }\n",
              "\n",
              "    [theme=dark] .colab-df-convert {\n",
              "      background-color: #3B4455;\n",
              "      fill: #D2E3FC;\n",
              "    }\n",
              "\n",
              "    [theme=dark] .colab-df-convert:hover {\n",
              "      background-color: #434B5C;\n",
              "      box-shadow: 0px 1px 3px 1px rgba(0, 0, 0, 0.15);\n",
              "      filter: drop-shadow(0px 1px 2px rgba(0, 0, 0, 0.3));\n",
              "      fill: #FFFFFF;\n",
              "    }\n",
              "  </style>\n",
              "\n",
              "      <script>\n",
              "        const buttonEl =\n",
              "          document.querySelector('#df-f6e3db85-b14b-4913-b326-dff68289ae69 button.colab-df-convert');\n",
              "        buttonEl.style.display =\n",
              "          google.colab.kernel.accessAllowed ? 'block' : 'none';\n",
              "\n",
              "        async function convertToInteractive(key) {\n",
              "          const element = document.querySelector('#df-f6e3db85-b14b-4913-b326-dff68289ae69');\n",
              "          const dataTable =\n",
              "            await google.colab.kernel.invokeFunction('convertToInteractive',\n",
              "                                                     [key], {});\n",
              "          if (!dataTable) return;\n",
              "\n",
              "          const docLinkHtml = 'Like what you see? Visit the ' +\n",
              "            '<a target=\"_blank\" href=https://colab.research.google.com/notebooks/data_table.ipynb>data table notebook</a>'\n",
              "            + ' to learn more about interactive tables.';\n",
              "          element.innerHTML = '';\n",
              "          dataTable['output_type'] = 'display_data';\n",
              "          await google.colab.output.renderOutput(dataTable, element);\n",
              "          const docLink = document.createElement('div');\n",
              "          docLink.innerHTML = docLinkHtml;\n",
              "          element.appendChild(docLink);\n",
              "        }\n",
              "      </script>\n",
              "    </div>\n",
              "  </div>\n",
              "  "
            ]
          },
          "metadata": {},
          "execution_count": 98
        }
      ]
    },
    {
      "cell_type": "code",
      "source": [
        "pd.DataFrame(history.history)[1:].plot()\n",
        "plt.ylabel(\"Loss\")\n",
        "plt.xlabel(\"Epochs\")"
      ],
      "metadata": {
        "colab": {
          "base_uri": "https://localhost:8080/",
          "height": 296
        },
        "id": "-wDIEYT_XhRU",
        "outputId": "7a98d531-9b1b-4051-d6c7-36d069a1e015"
      },
      "execution_count": 99,
      "outputs": [
        {
          "output_type": "execute_result",
          "data": {
            "text/plain": [
              "Text(0.5, 0, 'Epochs')"
            ]
          },
          "metadata": {},
          "execution_count": 99
        },
        {
          "output_type": "display_data",
          "data": {
            "text/plain": [
              "<Figure size 432x288 with 1 Axes>"
            ],
            "image/png": "[encoded data removed]"
          },
          "metadata": {
            "needs_background": "light"
          }
        }
      ]
    },
    {
      "cell_type": "markdown",
      "source": [
        "### Model evaluation"
      ],
      "metadata": {
        "id": "ZsCx9qN2RoB7"
      }
    },
    {
      "cell_type": "code",
      "source": [
        "# evaluate()\n",
        "soh_estimator.evaluate(test_in, test_out)"
      ],
      "metadata": {
        "colab": {
          "base_uri": "https://localhost:8080/"
        },
        "id": "sT9C22t8RwvZ",
        "outputId": "6a9f2214-a2ed-4910-bb26-2a418ed6d6a2"
      },
      "execution_count": 100,
      "outputs": [
        {
          "output_type": "stream",
          "name": "stdout",
          "text": [
            "283/283 [==============================] - 1s 2ms/step - loss: 0.0422 - mse: 0.0031\n"
          ]
        },
        {
          "output_type": "execute_result",
          "data": {
            "text/plain": [
              "[0.042222097516059875, 0.003073150757700205]"
            ]
          },
          "metadata": {},
          "execution_count": 100
        }
      ]
    },
    {
      "cell_type": "code",
      "source": [
        "test_in"
      ],
      "metadata": {
        "colab": {
          "base_uri": "https://localhost:8080/"
        },
        "id": "ibNXc8fMVJNZ",
        "outputId": "ff551387-daae-4a81-b5f1-e6ed8f764e69"
      },
      "execution_count": 101,
      "outputs": [
        {
          "output_type": "execute_result",
          "data": {
            "text/plain": [
              "<tf.Tensor: shape=(9025, 5), dtype=float64, numpy=\n",
              "array([[ 3.49843352e+00, -2.01420247e+00,  3.34222528e+01,\n",
              "         2.01500000e+03,  4.20000000e+01],\n",
              "       [ 3.86603840e+00, -2.01165855e+00,  2.61400353e+01,\n",
              "         1.32047000e+02,  1.10000000e+02],\n",
              "       [ 3.51623196e+00, -2.01391613e+00,  3.09461414e+01,\n",
              "         9.65687000e+02,  1.50000000e+02],\n",
              "       ...,\n",
              "       [ 3.72000418e+00, -2.01322427e+00,  2.93400818e+01,\n",
              "         5.53546000e+02,  8.50000000e+01],\n",
              "       [ 3.66723755e+00, -2.01150584e+00,  2.93618032e+01,\n",
              "         7.40969000e+02,  8.10000000e+01],\n",
              "       [ 3.80996165e+00, -2.01401784e+00,  2.55818919e+01,\n",
              "         1.69516000e+02,  1.46000000e+02]])>"
            ]
          },
          "metadata": {},
          "execution_count": 101
        }
      ]
    },
    {
      "cell_type": "code",
      "source": [
        "test_out"
      ],
      "metadata": {
        "colab": {
          "base_uri": "https://localhost:8080/"
        },
        "id": "reXhjHCrVNMS",
        "outputId": "f115ba7b-bcfb-4a84-945e-51114f16568b"
      },
      "execution_count": 102,
      "outputs": [
        {
          "output_type": "execute_result",
          "data": {
            "text/plain": [
              "<tf.Tensor: shape=(9025,), dtype=float64, numpy=\n",
              "array([1.76231507, 1.44904216, 1.32387242, ..., 1.5382366 , 1.55976595,\n",
              "       1.3231709 ])>"
            ]
          },
          "metadata": {},
          "execution_count": 102
        }
      ]
    },
    {
      "cell_type": "code",
      "source": [
        "soh_estimator.predict(test_in)"
      ],
      "metadata": {
        "colab": {
          "base_uri": "https://localhost:8080/"
        },
        "id": "gf3Q_T6LWRsF",
        "outputId": "ef947360-bb9f-4849-a02d-d72b97fee743"
      },
      "execution_count": 103,
      "outputs": [
        {
          "output_type": "execute_result",
          "data": {
            "text/plain": [
              "array([[1.8097448],\n",
              "       [1.4429754],\n",
              "       [1.3275973],\n",
              "       ...,\n",
              "       [1.5950013],\n",
              "       [1.6061043],\n",
              "       [1.3275973]], dtype=float32)"
            ]
          },
          "metadata": {},
          "execution_count": 103
        }
      ]
    },
    {
      "cell_type": "code",
      "source": [
        "tf.keras.utils.plot_model(model=soh_estimator, show_shapes=True)"
      ],
      "metadata": {
        "id": "oK7-vlEHLM4C",
        "colab": {
          "base_uri": "https://localhost:8080/",
          "height": 422
        },
        "outputId": "0dde385d-5a14-4461-9bae-b33b14289cc6"
      },
      "execution_count": 104,
      "outputs": [
        {
          "output_type": "execute_result",
          "data": {
            "text/plain": [
              "<IPython.core.display.Image object>"
            ],
            "image/png": "[encoded data removed]"
          },
          "metadata": {},
          "execution_count": 104
        }
      ]
    }
  ]
}